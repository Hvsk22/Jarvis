{
 "cells": [
  {
   "cell_type": "code",
   "execution_count": 1,
   "metadata": {},
   "outputs": [],
   "source": [
    "import re"
   ]
  },
  {
   "cell_type": "code",
   "execution_count": 2,
   "metadata": {},
   "outputs": [],
   "source": [
    "import pandas as pd"
   ]
  },
  {
   "cell_type": "code",
   "execution_count": 3,
   "metadata": {},
   "outputs": [],
   "source": [
    "x = pd.ExcelFile('me.xlsx')"
   ]
  },
  {
   "cell_type": "code",
   "execution_count": 4,
   "metadata": {},
   "outputs": [
    {
     "data": {
      "text/plain": [
       "['Sheet1']"
      ]
     },
     "execution_count": 4,
     "metadata": {},
     "output_type": "execute_result"
    }
   ],
   "source": [
    "x.sheet_names"
   ]
  },
  {
   "cell_type": "code",
   "execution_count": 5,
   "metadata": {},
   "outputs": [],
   "source": [
    "xls = pd.read_excel(x,'Sheet1')"
   ]
  },
  {
   "cell_type": "code",
   "execution_count": 6,
   "metadata": {},
   "outputs": [
    {
     "data": {
      "text/html": [
       "<div>\n",
       "<style scoped>\n",
       "    .dataframe tbody tr th:only-of-type {\n",
       "        vertical-align: middle;\n",
       "    }\n",
       "\n",
       "    .dataframe tbody tr th {\n",
       "        vertical-align: top;\n",
       "    }\n",
       "\n",
       "    .dataframe thead th {\n",
       "        text-align: right;\n",
       "    }\n",
       "</style>\n",
       "<table border=\"1\" class=\"dataframe\">\n",
       "  <thead>\n",
       "    <tr style=\"text-align: right;\">\n",
       "      <th></th>\n",
       "      <th>District</th>\n",
       "      <th>AC name</th>\n",
       "      <th>Village</th>\n",
       "      <th>Sum of # ApplicantName</th>\n",
       "      <th>Task assigned</th>\n",
       "      <th>booth</th>\n",
       "    </tr>\n",
       "  </thead>\n",
       "  <tbody>\n",
       "    <tr>\n",
       "      <th>0</th>\n",
       "      <td>Jalna</td>\n",
       "      <td>Ralegaon (St)</td>\n",
       "      <td>SAWARGAON</td>\n",
       "      <td>124</td>\n",
       "      <td>Akash</td>\n",
       "      <td>Bhokardan264, Partur25, Partur309, Jalna268, J...</td>\n",
       "    </tr>\n",
       "    <tr>\n",
       "      <th>1</th>\n",
       "      <td>Jalna</td>\n",
       "      <td>Sindkhed Raja</td>\n",
       "      <td>KONAD</td>\n",
       "      <td>54</td>\n",
       "      <td>Akash</td>\n",
       "      <td>Bhokardan131, Bhokardan132</td>\n",
       "    </tr>\n",
       "    <tr>\n",
       "      <th>2</th>\n",
       "      <td>Kolhapur</td>\n",
       "      <td>Alibag</td>\n",
       "      <td>NAGAON</td>\n",
       "      <td>150</td>\n",
       "      <td>Akash</td>\n",
       "      <td>Kolhapur South314,Kolhapur South315,Nandurbar ...</td>\n",
       "    </tr>\n",
       "    <tr>\n",
       "      <th>3</th>\n",
       "      <td>Latur</td>\n",
       "      <td>Hingna</td>\n",
       "      <td>KHADGAON</td>\n",
       "      <td>21</td>\n",
       "      <td>Akash</td>\n",
       "      <td>Latur City28,Latur City29,Latur City30</td>\n",
       "    </tr>\n",
       "    <tr>\n",
       "      <th>4</th>\n",
       "      <td>Latur</td>\n",
       "      <td>Kinwat</td>\n",
       "      <td>PATODA BK</td>\n",
       "      <td>161</td>\n",
       "      <td>Akash</td>\n",
       "      <td>Udgir (Sc)28, Udgir (Sc)29, Udgir (Sc)43</td>\n",
       "    </tr>\n",
       "  </tbody>\n",
       "</table>\n",
       "</div>"
      ],
      "text/plain": [
       "   District        AC name    Village  Sum of # ApplicantName Task assigned  \\\n",
       "0     Jalna  Ralegaon (St)  SAWARGAON                     124         Akash   \n",
       "1     Jalna  Sindkhed Raja      KONAD                      54         Akash   \n",
       "2  Kolhapur         Alibag     NAGAON                     150         Akash   \n",
       "3     Latur         Hingna   KHADGAON                      21         Akash   \n",
       "4     Latur         Kinwat  PATODA BK                     161         Akash   \n",
       "\n",
       "                                               booth  \n",
       "0  Bhokardan264, Partur25, Partur309, Jalna268, J...  \n",
       "1                         Bhokardan131, Bhokardan132  \n",
       "2  Kolhapur South314,Kolhapur South315,Nandurbar ...  \n",
       "3             Latur City28,Latur City29,Latur City30  \n",
       "4           Udgir (Sc)28, Udgir (Sc)29, Udgir (Sc)43  "
      ]
     },
     "execution_count": 6,
     "metadata": {},
     "output_type": "execute_result"
    }
   ],
   "source": [
    "xls.head()"
   ]
  },
  {
   "cell_type": "code",
   "execution_count": 116,
   "metadata": {},
   "outputs": [],
   "source": [
    "df = pd.read_csv('100wale.csv')"
   ]
  },
  {
   "cell_type": "code",
   "execution_count": 117,
   "metadata": {},
   "outputs": [],
   "source": [
    "r = pd.DataFrame(df.groupby('acname')['boothno'].apply(','.join))"
   ]
  },
  {
   "cell_type": "code",
   "execution_count": 118,
   "metadata": {},
   "outputs": [],
   "source": [
    "r =r.reset_index()"
   ]
  },
  {
   "cell_type": "code",
   "execution_count": 9,
   "metadata": {},
   "outputs": [
    {
     "data": {
      "text/html": [
       "<div>\n",
       "<style scoped>\n",
       "    .dataframe tbody tr th:only-of-type {\n",
       "        vertical-align: middle;\n",
       "    }\n",
       "\n",
       "    .dataframe tbody tr th {\n",
       "        vertical-align: top;\n",
       "    }\n",
       "\n",
       "    .dataframe thead th {\n",
       "        text-align: right;\n",
       "    }\n",
       "</style>\n",
       "<table border=\"1\" class=\"dataframe\">\n",
       "  <thead>\n",
       "    <tr style=\"text-align: right;\">\n",
       "      <th></th>\n",
       "      <th>District</th>\n",
       "      <th>District Name (cleaned)</th>\n",
       "      <th>Taluka</th>\n",
       "      <th>Taluka cleaned</th>\n",
       "      <th>Village</th>\n",
       "      <th>Booth</th>\n",
       "    </tr>\n",
       "  </thead>\n",
       "  <tbody>\n",
       "    <tr>\n",
       "      <th>0</th>\n",
       "      <td>Jalgaon</td>\n",
       "      <td>jalgaon</td>\n",
       "      <td>Dharangaon</td>\n",
       "      <td>dharangaon</td>\n",
       "      <td>Dharangaon</td>\n",
       "      <td>Jamner276</td>\n",
       "    </tr>\n",
       "    <tr>\n",
       "      <th>1</th>\n",
       "      <td>Jalgaon</td>\n",
       "      <td>jalgaon</td>\n",
       "      <td>Pachora</td>\n",
       "      <td>pachora</td>\n",
       "      <td>Nagardeola</td>\n",
       "      <td>Pachora202,Pachora203,Pachora204,Pachora205,Pa...</td>\n",
       "    </tr>\n",
       "    <tr>\n",
       "      <th>2</th>\n",
       "      <td>Jalgaon</td>\n",
       "      <td>jalgaon</td>\n",
       "      <td>Bhadgaon</td>\n",
       "      <td>bhadgaon</td>\n",
       "      <td>Aamadde</td>\n",
       "      <td>Erandol239,Erandol240,Erandol241,Erandol242</td>\n",
       "    </tr>\n",
       "    <tr>\n",
       "      <th>3</th>\n",
       "      <td>Jalgaon</td>\n",
       "      <td>jalgaon</td>\n",
       "      <td>Pachora</td>\n",
       "      <td>pachora</td>\n",
       "      <td>Nandra</td>\n",
       "      <td>Jamner154,Jamner155, Jamner116,Jamner117\\n</td>\n",
       "    </tr>\n",
       "    <tr>\n",
       "      <th>4</th>\n",
       "      <td>Jalgaon</td>\n",
       "      <td>jalgaon</td>\n",
       "      <td>Pachora</td>\n",
       "      <td>pachora</td>\n",
       "      <td>Pimpalgaon Hareshwar</td>\n",
       "      <td>Pachora293,Pachora294,Pachora296,Pachora297,Pa...</td>\n",
       "    </tr>\n",
       "  </tbody>\n",
       "</table>\n",
       "</div>"
      ],
      "text/plain": [
       "  District District Name (cleaned)      Taluka Taluka cleaned  \\\n",
       "0  Jalgaon                 jalgaon  Dharangaon     dharangaon   \n",
       "1  Jalgaon                 jalgaon     Pachora        pachora   \n",
       "2  Jalgaon                 jalgaon    Bhadgaon       bhadgaon   \n",
       "3  Jalgaon                 jalgaon     Pachora        pachora   \n",
       "4  Jalgaon                 jalgaon     Pachora        pachora   \n",
       "\n",
       "                Village                                              Booth  \n",
       "0            Dharangaon                                          Jamner276  \n",
       "1            Nagardeola  Pachora202,Pachora203,Pachora204,Pachora205,Pa...  \n",
       "2               Aamadde        Erandol239,Erandol240,Erandol241,Erandol242  \n",
       "3                Nandra         Jamner154,Jamner155, Jamner116,Jamner117\\n  \n",
       "4  Pimpalgaon Hareshwar  Pachora293,Pachora294,Pachora296,Pachora297,Pa...  "
      ]
     },
     "execution_count": 9,
     "metadata": {},
     "output_type": "execute_result"
    }
   ],
   "source": [
    "xls.head()"
   ]
  },
  {
   "cell_type": "code",
   "execution_count": 60,
   "metadata": {},
   "outputs": [],
   "source": [
    "r.to_csv('booth_file.csv')"
   ]
  },
  {
   "cell_type": "code",
   "execution_count": 95,
   "metadata": {},
   "outputs": [
    {
     "data": {
      "text/html": [
       "<div>\n",
       "<style scoped>\n",
       "    .dataframe tbody tr th:only-of-type {\n",
       "        vertical-align: middle;\n",
       "    }\n",
       "\n",
       "    .dataframe tbody tr th {\n",
       "        vertical-align: top;\n",
       "    }\n",
       "\n",
       "    .dataframe thead th {\n",
       "        text-align: right;\n",
       "    }\n",
       "</style>\n",
       "<table border=\"1\" class=\"dataframe\">\n",
       "  <thead>\n",
       "    <tr style=\"text-align: right;\">\n",
       "      <th></th>\n",
       "      <th>District</th>\n",
       "      <th>Taluka</th>\n",
       "      <th>Village</th>\n",
       "      <th>Count of ApplicantName</th>\n",
       "      <th>Booths</th>\n",
       "      <th>Booth1</th>\n",
       "      <th>Booth2</th>\n",
       "      <th>Booth3</th>\n",
       "      <th>Booth4</th>\n",
       "      <th>Booth5</th>\n",
       "      <th>boothno</th>\n",
       "      <th>acname</th>\n",
       "    </tr>\n",
       "  </thead>\n",
       "  <tbody>\n",
       "    <tr>\n",
       "      <th>0</th>\n",
       "      <td>Ratnagiri</td>\n",
       "      <td>CHIPLUN</td>\n",
       "      <td>Kalvende</td>\n",
       "      <td>136</td>\n",
       "      <td>Guhagar197,Guhagar198</td>\n",
       "      <td>Guhagar197,Guhagar198</td>\n",
       "      <td>NaN</td>\n",
       "      <td>NaN</td>\n",
       "      <td>NaN</td>\n",
       "      <td>NaN</td>\n",
       "      <td>[197, 198]</td>\n",
       "      <td>[Guhagar]</td>\n",
       "    </tr>\n",
       "    <tr>\n",
       "      <th>1</th>\n",
       "      <td>Ratnagiri</td>\n",
       "      <td>KHED</td>\n",
       "      <td>Bhelsai</td>\n",
       "      <td>116</td>\n",
       "      <td>Guhagar138 Guhagar185</td>\n",
       "      <td>Guhagar138</td>\n",
       "      <td>Guhagar185</td>\n",
       "      <td>NaN</td>\n",
       "      <td>NaN</td>\n",
       "      <td>NaN</td>\n",
       "      <td>[138, 185]</td>\n",
       "      <td>[Guhagar]</td>\n",
       "    </tr>\n",
       "    <tr>\n",
       "      <th>2</th>\n",
       "      <td>Ratnagiri</td>\n",
       "      <td>RATNAGIRI</td>\n",
       "      <td>Pawas</td>\n",
       "      <td>162</td>\n",
       "      <td>Ratnagiri319 Ratnagiri323 Ratnagiri324 Ratnagi...</td>\n",
       "      <td>Ratnagiri319        Ratnagiri323              ...</td>\n",
       "      <td>NaN</td>\n",
       "      <td>NaN</td>\n",
       "      <td>Ratnagiri321</td>\n",
       "      <td>Ratnagiri320</td>\n",
       "      <td>[319, 323, 324, 321, 320]</td>\n",
       "      <td>[Ratnagiri]</td>\n",
       "    </tr>\n",
       "    <tr>\n",
       "      <th>3</th>\n",
       "      <td>Sangli</td>\n",
       "      <td>ATPADI</td>\n",
       "      <td>Nelkaranji</td>\n",
       "      <td>118</td>\n",
       "      <td>Khanapur222,Khanapur223,Khanapur224</td>\n",
       "      <td>Khanapur222,Khanapur223,Khanapur224</td>\n",
       "      <td>NaN</td>\n",
       "      <td>NaN</td>\n",
       "      <td>NaN</td>\n",
       "      <td>NaN</td>\n",
       "      <td>[222, 223, 224]</td>\n",
       "      <td>[Khanapur]</td>\n",
       "    </tr>\n",
       "    <tr>\n",
       "      <th>4</th>\n",
       "      <td>Sangli</td>\n",
       "      <td>ATPADI</td>\n",
       "      <td>PIMPRIKURDE</td>\n",
       "      <td>140</td>\n",
       "      <td>Khanapur332,Khanapur333 Khanapur205,Khanapur206</td>\n",
       "      <td>Khanapur332,Khanapur333</td>\n",
       "      <td>NaN</td>\n",
       "      <td>Khanapur205,Khanapur206</td>\n",
       "      <td>NaN</td>\n",
       "      <td>NaN</td>\n",
       "      <td>[332, 333, 205, 206]</td>\n",
       "      <td>[Khanapur]</td>\n",
       "    </tr>\n",
       "  </tbody>\n",
       "</table>\n",
       "</div>"
      ],
      "text/plain": [
       "    District     Taluka      Village  Count of ApplicantName  \\\n",
       "0  Ratnagiri    CHIPLUN     Kalvende                     136   \n",
       "1  Ratnagiri       KHED      Bhelsai                     116   \n",
       "2  Ratnagiri  RATNAGIRI        Pawas                     162   \n",
       "3     Sangli     ATPADI   Nelkaranji                     118   \n",
       "4     Sangli     ATPADI  PIMPRIKURDE                     140   \n",
       "\n",
       "                                              Booths  \\\n",
       "0                              Guhagar197,Guhagar198   \n",
       "1                              Guhagar138 Guhagar185   \n",
       "2  Ratnagiri319 Ratnagiri323 Ratnagiri324 Ratnagi...   \n",
       "3                Khanapur222,Khanapur223,Khanapur224   \n",
       "4    Khanapur332,Khanapur333 Khanapur205,Khanapur206   \n",
       "\n",
       "                                              Booth1      Booth2  \\\n",
       "0                              Guhagar197,Guhagar198         NaN   \n",
       "1                                         Guhagar138  Guhagar185   \n",
       "2  Ratnagiri319        Ratnagiri323              ...         NaN   \n",
       "3                Khanapur222,Khanapur223,Khanapur224         NaN   \n",
       "4                            Khanapur332,Khanapur333         NaN   \n",
       "\n",
       "                    Booth3        Booth4        Booth5  \\\n",
       "0                      NaN           NaN           NaN   \n",
       "1                      NaN           NaN           NaN   \n",
       "2                      NaN  Ratnagiri321  Ratnagiri320   \n",
       "3                      NaN           NaN           NaN   \n",
       "4  Khanapur205,Khanapur206           NaN           NaN   \n",
       "\n",
       "                     boothno       acname  \n",
       "0                 [197, 198]    [Guhagar]  \n",
       "1                 [138, 185]    [Guhagar]  \n",
       "2  [319, 323, 324, 321, 320]  [Ratnagiri]  \n",
       "3            [222, 223, 224]   [Khanapur]  \n",
       "4       [332, 333, 205, 206]   [Khanapur]  "
      ]
     },
     "execution_count": 95,
     "metadata": {},
     "output_type": "execute_result"
    }
   ],
   "source": [
    "xls.head()"
   ]
  },
  {
   "cell_type": "code",
   "execution_count": 106,
   "metadata": {},
   "outputs": [],
   "source": [
    "df = xls.set_index(['District','Taluka','Village','Count of ApplicantName']).Booths.str.split(',',expand = True).stack()"
   ]
  },
  {
   "cell_type": "code",
   "execution_count": 107,
   "metadata": {},
   "outputs": [],
   "source": [
    "df = df.reset_index()"
   ]
  },
  {
   "cell_type": "code",
   "execution_count": 38,
   "metadata": {},
   "outputs": [
    {
     "data": {
      "text/html": [
       "<div>\n",
       "<style scoped>\n",
       "    .dataframe tbody tr th:only-of-type {\n",
       "        vertical-align: middle;\n",
       "    }\n",
       "\n",
       "    .dataframe tbody tr th {\n",
       "        vertical-align: top;\n",
       "    }\n",
       "\n",
       "    .dataframe thead th {\n",
       "        text-align: right;\n",
       "    }\n",
       "</style>\n",
       "<table border=\"1\" class=\"dataframe\">\n",
       "  <thead>\n",
       "    <tr style=\"text-align: right;\">\n",
       "      <th></th>\n",
       "      <th>District</th>\n",
       "      <th>District Name (cleaned)</th>\n",
       "      <th>Taluka</th>\n",
       "      <th>Taluka cleaned</th>\n",
       "      <th>Village</th>\n",
       "      <th>Booth</th>\n",
       "      <th>boothno</th>\n",
       "      <th>acname</th>\n",
       "    </tr>\n",
       "  </thead>\n",
       "  <tbody>\n",
       "    <tr>\n",
       "      <th>0</th>\n",
       "      <td>Jalgaon</td>\n",
       "      <td>jalgaon</td>\n",
       "      <td>Dharangaon</td>\n",
       "      <td>dharangaon</td>\n",
       "      <td>Dharangaon</td>\n",
       "      <td>Jamner276</td>\n",
       "      <td>[276]</td>\n",
       "      <td>Jamner276</td>\n",
       "    </tr>\n",
       "    <tr>\n",
       "      <th>1</th>\n",
       "      <td>Jalgaon</td>\n",
       "      <td>jalgaon</td>\n",
       "      <td>Pachora</td>\n",
       "      <td>pachora</td>\n",
       "      <td>Nagardeola</td>\n",
       "      <td>Pachora202,Pachora203,Pachora204,Pachora205,Pa...</td>\n",
       "      <td>[202, 203, 204, 205, 206, 207, 208, 209, 210, ...</td>\n",
       "      <td>Pachora202,Pachora203,Pachora204,Pachora205,Pa...</td>\n",
       "    </tr>\n",
       "    <tr>\n",
       "      <th>2</th>\n",
       "      <td>Jalgaon</td>\n",
       "      <td>jalgaon</td>\n",
       "      <td>Bhadgaon</td>\n",
       "      <td>bhadgaon</td>\n",
       "      <td>Aamadde</td>\n",
       "      <td>Erandol239,Erandol240,Erandol241,Erandol242</td>\n",
       "      <td>[239, 240, 241, 242]</td>\n",
       "      <td>Erandol239,Erandol240,Erandol241,Erandol242</td>\n",
       "    </tr>\n",
       "    <tr>\n",
       "      <th>3</th>\n",
       "      <td>Jalgaon</td>\n",
       "      <td>jalgaon</td>\n",
       "      <td>Pachora</td>\n",
       "      <td>pachora</td>\n",
       "      <td>Nandra</td>\n",
       "      <td>Jamner154,Jamner155, Jamner116,Jamner117\\n</td>\n",
       "      <td>[154, 155, 116, 117]</td>\n",
       "      <td>Jamner154,Jamner155, Jamner116,Jamner117\\n</td>\n",
       "    </tr>\n",
       "    <tr>\n",
       "      <th>4</th>\n",
       "      <td>Jalgaon</td>\n",
       "      <td>jalgaon</td>\n",
       "      <td>Pachora</td>\n",
       "      <td>pachora</td>\n",
       "      <td>Pimpalgaon Hareshwar</td>\n",
       "      <td>Pachora293,Pachora294,Pachora296,Pachora297,Pa...</td>\n",
       "      <td>[293, 294, 296, 297, 298, 299, 300, 301, 198, ...</td>\n",
       "      <td>Pachora293,Pachora294,Pachora296,Pachora297,Pa...</td>\n",
       "    </tr>\n",
       "  </tbody>\n",
       "</table>\n",
       "</div>"
      ],
      "text/plain": [
       "  District District Name (cleaned)      Taluka Taluka cleaned  \\\n",
       "0  Jalgaon                 jalgaon  Dharangaon     dharangaon   \n",
       "1  Jalgaon                 jalgaon     Pachora        pachora   \n",
       "2  Jalgaon                 jalgaon    Bhadgaon       bhadgaon   \n",
       "3  Jalgaon                 jalgaon     Pachora        pachora   \n",
       "4  Jalgaon                 jalgaon     Pachora        pachora   \n",
       "\n",
       "                Village                                              Booth  \\\n",
       "0            Dharangaon                                          Jamner276   \n",
       "1            Nagardeola  Pachora202,Pachora203,Pachora204,Pachora205,Pa...   \n",
       "2               Aamadde        Erandol239,Erandol240,Erandol241,Erandol242   \n",
       "3                Nandra         Jamner154,Jamner155, Jamner116,Jamner117\\n   \n",
       "4  Pimpalgaon Hareshwar  Pachora293,Pachora294,Pachora296,Pachora297,Pa...   \n",
       "\n",
       "                                             boothno  \\\n",
       "0                                              [276]   \n",
       "1  [202, 203, 204, 205, 206, 207, 208, 209, 210, ...   \n",
       "2                               [239, 240, 241, 242]   \n",
       "3                               [154, 155, 116, 117]   \n",
       "4  [293, 294, 296, 297, 298, 299, 300, 301, 198, ...   \n",
       "\n",
       "                                              acname  \n",
       "0                                          Jamner276  \n",
       "1  Pachora202,Pachora203,Pachora204,Pachora205,Pa...  \n",
       "2        Erandol239,Erandol240,Erandol241,Erandol242  \n",
       "3         Jamner154,Jamner155, Jamner116,Jamner117\\n  \n",
       "4  Pachora293,Pachora294,Pachora296,Pachora297,Pa...  "
      ]
     },
     "execution_count": 38,
     "metadata": {},
     "output_type": "execute_result"
    }
   ],
   "source": [
    "xls.head()"
   ]
  },
  {
   "cell_type": "code",
   "execution_count": 44,
   "metadata": {},
   "outputs": [
    {
     "ename": "AttributeError",
     "evalue": "'str' object has no attribute 'dtype'",
     "output_type": "error",
     "traceback": [
      "\u001b[1;31m---------------------------------------------------------------------------\u001b[0m",
      "\u001b[1;31mAttributeError\u001b[0m                            Traceback (most recent call last)",
      "\u001b[1;32m<ipython-input-44-b6af8a7808b4>\u001b[0m in \u001b[0;36m<module>\u001b[1;34m()\u001b[0m\n\u001b[1;32m----> 1\u001b[1;33m \u001b[0my\u001b[0m\u001b[1;33m.\u001b[0m\u001b[0mdtype\u001b[0m\u001b[1;33m(\u001b[0m\u001b[1;33m)\u001b[0m\u001b[1;33m\u001b[0m\u001b[0m\n\u001b[0m",
      "\u001b[1;31mAttributeError\u001b[0m: 'str' object has no attribute 'dtype'"
     ]
    }
   ],
   "source": []
  },
  {
   "cell_type": "code",
   "execution_count": 61,
   "metadata": {},
   "outputs": [],
   "source": [
    "y = xls.Booth[1]"
   ]
  },
  {
   "cell_type": "code",
   "execution_count": 12,
   "metadata": {},
   "outputs": [],
   "source": [
    "l = re.findall(\"([0-9]+)\", y)"
   ]
  },
  {
   "cell_type": "code",
   "execution_count": 62,
   "metadata": {},
   "outputs": [],
   "source": [
    "li = list(set(re.sub('[0-9]+','', y).split(',')))"
   ]
  },
  {
   "cell_type": "code",
   "execution_count": 77,
   "metadata": {},
   "outputs": [
    {
     "data": {
      "text/plain": [
       "['Pachora']"
      ]
     },
     "execution_count": 77,
     "metadata": {},
     "output_type": "execute_result"
    }
   ],
   "source": [
    "list(set(li.split(',')))"
   ]
  },
  {
   "cell_type": "code",
   "execution_count": 100,
   "metadata": {},
   "outputs": [],
   "source": [
    "df.to_csv('wale200.csv')\n",
    "\n",
    "\n"
   ]
  },
  {
   "cell_type": "code",
   "execution_count": 149,
   "metadata": {},
   "outputs": [],
   "source": [
    "xls.to_csv('50wala.csv')"
   ]
  },
  {
   "cell_type": "code",
   "execution_count": 9,
   "metadata": {},
   "outputs": [
    {
     "data": {
      "text/html": [
       "<div>\n",
       "<style scoped>\n",
       "    .dataframe tbody tr th:only-of-type {\n",
       "        vertical-align: middle;\n",
       "    }\n",
       "\n",
       "    .dataframe tbody tr th {\n",
       "        vertical-align: top;\n",
       "    }\n",
       "\n",
       "    .dataframe thead th {\n",
       "        text-align: right;\n",
       "    }\n",
       "</style>\n",
       "<table border=\"1\" class=\"dataframe\">\n",
       "  <thead>\n",
       "    <tr style=\"text-align: right;\">\n",
       "      <th></th>\n",
       "      <th>District</th>\n",
       "      <th>AC name</th>\n",
       "      <th>Village</th>\n",
       "      <th>Sum of # ApplicantName</th>\n",
       "      <th>Task assigned</th>\n",
       "      <th>booth</th>\n",
       "    </tr>\n",
       "  </thead>\n",
       "  <tbody>\n",
       "    <tr>\n",
       "      <th>0</th>\n",
       "      <td>Jalna</td>\n",
       "      <td>Ralegaon (St)</td>\n",
       "      <td>SAWARGAON</td>\n",
       "      <td>124</td>\n",
       "      <td>Akash</td>\n",
       "      <td>Bhokardan264, Partur25, Partur309, Jalna268, J...</td>\n",
       "    </tr>\n",
       "    <tr>\n",
       "      <th>1</th>\n",
       "      <td>Jalna</td>\n",
       "      <td>Sindkhed Raja</td>\n",
       "      <td>KONAD</td>\n",
       "      <td>54</td>\n",
       "      <td>Akash</td>\n",
       "      <td>Bhokardan131, Bhokardan132</td>\n",
       "    </tr>\n",
       "    <tr>\n",
       "      <th>2</th>\n",
       "      <td>Kolhapur</td>\n",
       "      <td>Alibag</td>\n",
       "      <td>NAGAON</td>\n",
       "      <td>150</td>\n",
       "      <td>Akash</td>\n",
       "      <td>Kolhapur South314,Kolhapur South315,Nandurbar ...</td>\n",
       "    </tr>\n",
       "    <tr>\n",
       "      <th>3</th>\n",
       "      <td>Latur</td>\n",
       "      <td>Hingna</td>\n",
       "      <td>KHADGAON</td>\n",
       "      <td>21</td>\n",
       "      <td>Akash</td>\n",
       "      <td>Latur City28,Latur City29,Latur City30</td>\n",
       "    </tr>\n",
       "    <tr>\n",
       "      <th>4</th>\n",
       "      <td>Latur</td>\n",
       "      <td>Kinwat</td>\n",
       "      <td>PATODA BK</td>\n",
       "      <td>161</td>\n",
       "      <td>Akash</td>\n",
       "      <td>Udgir (Sc)28, Udgir (Sc)29, Udgir (Sc)43</td>\n",
       "    </tr>\n",
       "  </tbody>\n",
       "</table>\n",
       "</div>"
      ],
      "text/plain": [
       "   District        AC name    Village  Sum of # ApplicantName Task assigned  \\\n",
       "0     Jalna  Ralegaon (St)  SAWARGAON                     124         Akash   \n",
       "1     Jalna  Sindkhed Raja      KONAD                      54         Akash   \n",
       "2  Kolhapur         Alibag     NAGAON                     150         Akash   \n",
       "3     Latur         Hingna   KHADGAON                      21         Akash   \n",
       "4     Latur         Kinwat  PATODA BK                     161         Akash   \n",
       "\n",
       "                                               booth  \n",
       "0  Bhokardan264, Partur25, Partur309, Jalna268, J...  \n",
       "1                         Bhokardan131, Bhokardan132  \n",
       "2  Kolhapur South314,Kolhapur South315,Nandurbar ...  \n",
       "3             Latur City28,Latur City29,Latur City30  \n",
       "4           Udgir (Sc)28, Udgir (Sc)29, Udgir (Sc)43  "
      ]
     },
     "execution_count": 9,
     "metadata": {},
     "output_type": "execute_result"
    }
   ],
   "source": [
    "xls.head()"
   ]
  },
  {
   "cell_type": "code",
   "execution_count": 10,
   "metadata": {},
   "outputs": [],
   "source": [
    "xls.booth = xls.booth.astype(str)"
   ]
  },
  {
   "cell_type": "code",
   "execution_count": 11,
   "metadata": {},
   "outputs": [],
   "source": [
    "xls['boothno'] = xls.booth.map(lambda x: re.findall(\"([0-9]+)\", x))\n"
   ]
  },
  {
   "cell_type": "code",
   "execution_count": 12,
   "metadata": {},
   "outputs": [],
   "source": [
    "xls['acname'] = xls.booth.map(lambda x : list(set(re.sub('[0-9]+','', x).split(','))))"
   ]
  },
  {
   "cell_type": "code",
   "execution_count": 13,
   "metadata": {},
   "outputs": [
    {
     "data": {
      "text/html": [
       "<div>\n",
       "<style scoped>\n",
       "    .dataframe tbody tr th:only-of-type {\n",
       "        vertical-align: middle;\n",
       "    }\n",
       "\n",
       "    .dataframe tbody tr th {\n",
       "        vertical-align: top;\n",
       "    }\n",
       "\n",
       "    .dataframe thead th {\n",
       "        text-align: right;\n",
       "    }\n",
       "</style>\n",
       "<table border=\"1\" class=\"dataframe\">\n",
       "  <thead>\n",
       "    <tr style=\"text-align: right;\">\n",
       "      <th></th>\n",
       "      <th>District</th>\n",
       "      <th>AC name</th>\n",
       "      <th>Village</th>\n",
       "      <th>Sum of # ApplicantName</th>\n",
       "      <th>Task assigned</th>\n",
       "      <th>booth</th>\n",
       "      <th>boothno</th>\n",
       "      <th>acname</th>\n",
       "    </tr>\n",
       "  </thead>\n",
       "  <tbody>\n",
       "    <tr>\n",
       "      <th>0</th>\n",
       "      <td>Jalna</td>\n",
       "      <td>Ralegaon (St)</td>\n",
       "      <td>SAWARGAON</td>\n",
       "      <td>124</td>\n",
       "      <td>Akash</td>\n",
       "      <td>Bhokardan264, Partur25, Partur309, Jalna268, J...</td>\n",
       "      <td>[264, 25, 309, 268, 269, 270, 113]</td>\n",
       "      <td>[ Partur,  Jalna, Bhokardan]</td>\n",
       "    </tr>\n",
       "    <tr>\n",
       "      <th>1</th>\n",
       "      <td>Jalna</td>\n",
       "      <td>Sindkhed Raja</td>\n",
       "      <td>KONAD</td>\n",
       "      <td>54</td>\n",
       "      <td>Akash</td>\n",
       "      <td>Bhokardan131, Bhokardan132</td>\n",
       "      <td>[131, 132]</td>\n",
       "      <td>[ Bhokardan, Bhokardan]</td>\n",
       "    </tr>\n",
       "    <tr>\n",
       "      <th>2</th>\n",
       "      <td>Kolhapur</td>\n",
       "      <td>Alibag</td>\n",
       "      <td>NAGAON</td>\n",
       "      <td>150</td>\n",
       "      <td>Akash</td>\n",
       "      <td>Kolhapur South314,Kolhapur South315,Nandurbar ...</td>\n",
       "      <td>[314, 315, 173, 102, 211, 212]</td>\n",
       "      <td>[Kolhapur South, Islampur, Mahad, Nandurbar (St)]</td>\n",
       "    </tr>\n",
       "    <tr>\n",
       "      <th>3</th>\n",
       "      <td>Latur</td>\n",
       "      <td>Hingna</td>\n",
       "      <td>KHADGAON</td>\n",
       "      <td>21</td>\n",
       "      <td>Akash</td>\n",
       "      <td>Latur City28,Latur City29,Latur City30</td>\n",
       "      <td>[28, 29, 30]</td>\n",
       "      <td>[Latur City]</td>\n",
       "    </tr>\n",
       "    <tr>\n",
       "      <th>4</th>\n",
       "      <td>Latur</td>\n",
       "      <td>Kinwat</td>\n",
       "      <td>PATODA BK</td>\n",
       "      <td>161</td>\n",
       "      <td>Akash</td>\n",
       "      <td>Udgir (Sc)28, Udgir (Sc)29, Udgir (Sc)43</td>\n",
       "      <td>[28, 29, 43]</td>\n",
       "      <td>[Udgir (Sc),  Udgir (Sc)]</td>\n",
       "    </tr>\n",
       "  </tbody>\n",
       "</table>\n",
       "</div>"
      ],
      "text/plain": [
       "   District        AC name    Village  Sum of # ApplicantName Task assigned  \\\n",
       "0     Jalna  Ralegaon (St)  SAWARGAON                     124         Akash   \n",
       "1     Jalna  Sindkhed Raja      KONAD                      54         Akash   \n",
       "2  Kolhapur         Alibag     NAGAON                     150         Akash   \n",
       "3     Latur         Hingna   KHADGAON                      21         Akash   \n",
       "4     Latur         Kinwat  PATODA BK                     161         Akash   \n",
       "\n",
       "                                               booth  \\\n",
       "0  Bhokardan264, Partur25, Partur309, Jalna268, J...   \n",
       "1                         Bhokardan131, Bhokardan132   \n",
       "2  Kolhapur South314,Kolhapur South315,Nandurbar ...   \n",
       "3             Latur City28,Latur City29,Latur City30   \n",
       "4           Udgir (Sc)28, Udgir (Sc)29, Udgir (Sc)43   \n",
       "\n",
       "                              boothno  \\\n",
       "0  [264, 25, 309, 268, 269, 270, 113]   \n",
       "1                          [131, 132]   \n",
       "2      [314, 315, 173, 102, 211, 212]   \n",
       "3                        [28, 29, 30]   \n",
       "4                        [28, 29, 43]   \n",
       "\n",
       "                                              acname  \n",
       "0                       [ Partur,  Jalna, Bhokardan]  \n",
       "1                            [ Bhokardan, Bhokardan]  \n",
       "2  [Kolhapur South, Islampur, Mahad, Nandurbar (St)]  \n",
       "3                                       [Latur City]  \n",
       "4                          [Udgir (Sc),  Udgir (Sc)]  "
      ]
     },
     "execution_count": 13,
     "metadata": {},
     "output_type": "execute_result"
    }
   ],
   "source": [
    "xls.head()"
   ]
  },
  {
   "cell_type": "code",
   "execution_count": 14,
   "metadata": {},
   "outputs": [],
   "source": [
    "xls['f'] = xls.acname.map(lambda x : len(x))"
   ]
  },
  {
   "cell_type": "code",
   "execution_count": 15,
   "metadata": {},
   "outputs": [],
   "source": [
    "xls.to_csv('gg2.csv')"
   ]
  },
  {
   "cell_type": "code",
   "execution_count": 67,
   "metadata": {},
   "outputs": [],
   "source": [
    "tehsil = pd.read_csv('Delimitation_MH.csv')"
   ]
  },
  {
   "cell_type": "code",
   "execution_count": 68,
   "metadata": {},
   "outputs": [],
   "source": [
    "r = pd.DataFrame(tehsil.groupby('Ac Name')['Local Body Name'].apply(','.join))"
   ]
  },
  {
   "cell_type": "code",
   "execution_count": 69,
   "metadata": {},
   "outputs": [],
   "source": [
    "r = r.reset_index()"
   ]
  },
  {
   "cell_type": "code",
   "execution_count": 34,
   "metadata": {},
   "outputs": [
    {
     "data": {
      "text/html": [
       "<div>\n",
       "<style scoped>\n",
       "    .dataframe tbody tr th:only-of-type {\n",
       "        vertical-align: middle;\n",
       "    }\n",
       "\n",
       "    .dataframe tbody tr th {\n",
       "        vertical-align: top;\n",
       "    }\n",
       "\n",
       "    .dataframe thead th {\n",
       "        text-align: right;\n",
       "    }\n",
       "</style>\n",
       "<table border=\"1\" class=\"dataframe\">\n",
       "  <thead>\n",
       "    <tr style=\"text-align: right;\">\n",
       "      <th></th>\n",
       "      <th>District Clean</th>\n",
       "      <th>Taluka</th>\n",
       "      <th>Village</th>\n",
       "      <th>Beneficaries</th>\n",
       "      <th>Tag</th>\n",
       "      <th>level_5</th>\n",
       "      <th>0</th>\n",
       "    </tr>\n",
       "  </thead>\n",
       "  <tbody>\n",
       "    <tr>\n",
       "      <th>0</th>\n",
       "      <td>Ahmednagar</td>\n",
       "      <td>NAGAR</td>\n",
       "      <td>Agadagaon</td>\n",
       "      <td>242</td>\n",
       "      <td>Ahmednagar_Agadagaon</td>\n",
       "      <td>0</td>\n",
       "      <td>Rahuri184</td>\n",
       "    </tr>\n",
       "    <tr>\n",
       "      <th>1</th>\n",
       "      <td>Ahmednagar</td>\n",
       "      <td>NAGAR</td>\n",
       "      <td>Agadagaon</td>\n",
       "      <td>242</td>\n",
       "      <td>Ahmednagar_Agadagaon</td>\n",
       "      <td>1</td>\n",
       "      <td>Rahuri185</td>\n",
       "    </tr>\n",
       "    <tr>\n",
       "      <th>2</th>\n",
       "      <td>Ahmednagar</td>\n",
       "      <td>NAGAR</td>\n",
       "      <td>Agadagaon</td>\n",
       "      <td>242</td>\n",
       "      <td>Ahmednagar_Agadagaon</td>\n",
       "      <td>2</td>\n",
       "      <td>Shirdi108</td>\n",
       "    </tr>\n",
       "    <tr>\n",
       "      <th>3</th>\n",
       "      <td>Ahmednagar</td>\n",
       "      <td>NAGAR</td>\n",
       "      <td>Agadagaon</td>\n",
       "      <td>242</td>\n",
       "      <td>Ahmednagar_Agadagaon</td>\n",
       "      <td>3</td>\n",
       "      <td>Shirdi109</td>\n",
       "    </tr>\n",
       "    <tr>\n",
       "      <th>4</th>\n",
       "      <td>Ahmednagar</td>\n",
       "      <td>NAGAR</td>\n",
       "      <td>Agadagaon</td>\n",
       "      <td>242</td>\n",
       "      <td>Ahmednagar_Agadagaon</td>\n",
       "      <td>4</td>\n",
       "      <td>Shirdi107</td>\n",
       "    </tr>\n",
       "  </tbody>\n",
       "</table>\n",
       "</div>"
      ],
      "text/plain": [
       "  District Clean Taluka    Village  Beneficaries                   Tag  \\\n",
       "0     Ahmednagar  NAGAR  Agadagaon           242  Ahmednagar_Agadagaon   \n",
       "1     Ahmednagar  NAGAR  Agadagaon           242  Ahmednagar_Agadagaon   \n",
       "2     Ahmednagar  NAGAR  Agadagaon           242  Ahmednagar_Agadagaon   \n",
       "3     Ahmednagar  NAGAR  Agadagaon           242  Ahmednagar_Agadagaon   \n",
       "4     Ahmednagar  NAGAR  Agadagaon           242  Ahmednagar_Agadagaon   \n",
       "\n",
       "   level_5          0  \n",
       "0        0  Rahuri184  \n",
       "1        1  Rahuri185  \n",
       "2        2  Shirdi108  \n",
       "3        3  Shirdi109  \n",
       "4        4  Shirdi107  "
      ]
     },
     "execution_count": 34,
     "metadata": {},
     "output_type": "execute_result"
    }
   ],
   "source": [
    "df.head()"
   ]
  },
  {
   "cell_type": "code",
   "execution_count": 28,
   "metadata": {},
   "outputs": [],
   "source": [
    "df = pd.DataFrame(df)"
   ]
  },
  {
   "cell_type": "code",
   "execution_count": 33,
   "metadata": {},
   "outputs": [],
   "source": [
    "df = df.reset_index()"
   ]
  },
  {
   "cell_type": "code",
   "execution_count": 38,
   "metadata": {
    "collapsed": true
   },
   "outputs": [
    {
     "ename": "IndexError",
     "evalue": "list index out of range",
     "output_type": "error",
     "traceback": [
      "\u001b[1;31m---------------------------------------------------------------------------\u001b[0m",
      "\u001b[1;31mIndexError\u001b[0m                                Traceback (most recent call last)",
      "\u001b[1;32m<ipython-input-38-69bdbb3ea267>\u001b[0m in \u001b[0;36m<module>\u001b[1;34m()\u001b[0m\n\u001b[1;32m----> 1\u001b[1;33m \u001b[0mdf\u001b[0m\u001b[1;33m[\u001b[0m\u001b[1;34m'boothno'\u001b[0m\u001b[1;33m]\u001b[0m \u001b[1;33m=\u001b[0m \u001b[0mdf\u001b[0m\u001b[1;33m[\u001b[0m\u001b[1;36m0\u001b[0m\u001b[1;33m]\u001b[0m\u001b[1;33m.\u001b[0m\u001b[0mmap\u001b[0m\u001b[1;33m(\u001b[0m\u001b[1;32mlambda\u001b[0m \u001b[0mx\u001b[0m\u001b[1;33m:\u001b[0m \u001b[0mre\u001b[0m\u001b[1;33m.\u001b[0m\u001b[0mfindall\u001b[0m\u001b[1;33m(\u001b[0m\u001b[1;34m\"([0-9]+)\"\u001b[0m\u001b[1;33m,\u001b[0m \u001b[0mx\u001b[0m\u001b[1;33m)\u001b[0m\u001b[1;33m[\u001b[0m\u001b[1;36m0\u001b[0m\u001b[1;33m]\u001b[0m\u001b[1;33m)\u001b[0m\u001b[1;33m\u001b[0m\u001b[0m\n\u001b[0m",
      "\u001b[1;32m~\\Anaconda3\\lib\\site-packages\\pandas\\core\\series.py\u001b[0m in \u001b[0;36mmap\u001b[1;34m(self, arg, na_action)\u001b[0m\n\u001b[0;32m   2352\u001b[0m         \u001b[1;32melse\u001b[0m\u001b[1;33m:\u001b[0m\u001b[1;33m\u001b[0m\u001b[0m\n\u001b[0;32m   2353\u001b[0m             \u001b[1;31m# arg is a function\u001b[0m\u001b[1;33m\u001b[0m\u001b[1;33m\u001b[0m\u001b[0m\n\u001b[1;32m-> 2354\u001b[1;33m             \u001b[0mnew_values\u001b[0m \u001b[1;33m=\u001b[0m \u001b[0mmap_f\u001b[0m\u001b[1;33m(\u001b[0m\u001b[0mvalues\u001b[0m\u001b[1;33m,\u001b[0m \u001b[0marg\u001b[0m\u001b[1;33m)\u001b[0m\u001b[1;33m\u001b[0m\u001b[0m\n\u001b[0m\u001b[0;32m   2355\u001b[0m \u001b[1;33m\u001b[0m\u001b[0m\n\u001b[0;32m   2356\u001b[0m         return self._constructor(new_values,\n",
      "\u001b[1;32mpandas/_libs/src/inference.pyx\u001b[0m in \u001b[0;36mpandas._libs.lib.map_infer\u001b[1;34m()\u001b[0m\n",
      "\u001b[1;32m<ipython-input-38-69bdbb3ea267>\u001b[0m in \u001b[0;36m<lambda>\u001b[1;34m(x)\u001b[0m\n\u001b[1;32m----> 1\u001b[1;33m \u001b[0mdf\u001b[0m\u001b[1;33m[\u001b[0m\u001b[1;34m'boothno'\u001b[0m\u001b[1;33m]\u001b[0m \u001b[1;33m=\u001b[0m \u001b[0mdf\u001b[0m\u001b[1;33m[\u001b[0m\u001b[1;36m0\u001b[0m\u001b[1;33m]\u001b[0m\u001b[1;33m.\u001b[0m\u001b[0mmap\u001b[0m\u001b[1;33m(\u001b[0m\u001b[1;32mlambda\u001b[0m \u001b[0mx\u001b[0m\u001b[1;33m:\u001b[0m \u001b[0mre\u001b[0m\u001b[1;33m.\u001b[0m\u001b[0mfindall\u001b[0m\u001b[1;33m(\u001b[0m\u001b[1;34m\"([0-9]+)\"\u001b[0m\u001b[1;33m,\u001b[0m \u001b[0mx\u001b[0m\u001b[1;33m)\u001b[0m\u001b[1;33m[\u001b[0m\u001b[1;36m0\u001b[0m\u001b[1;33m]\u001b[0m\u001b[1;33m)\u001b[0m\u001b[1;33m\u001b[0m\u001b[0m\n\u001b[0m",
      "\u001b[1;31mIndexError\u001b[0m: list index out of range"
     ]
    }
   ],
   "source": [
    "df['boothno'] = df[0].map(lambda x: re.findall(\"([0-9]+)\", x))"
   ]
  },
  {
   "cell_type": "code",
   "execution_count": 39,
   "metadata": {},
   "outputs": [],
   "source": [
    "df['acname'] = df[0].map(lambda x : list(set(re.findall('[a-zA-Z]+', x)))[0])"
   ]
  },
  {
   "cell_type": "code",
   "execution_count": 113,
   "metadata": {},
   "outputs": [],
   "source": [
    "df.to_csv('100wale.csv')"
   ]
  },
  {
   "cell_type": "code",
   "execution_count": null,
   "metadata": {},
   "outputs": [],
   "source": []
  }
 ],
 "metadata": {
  "kernelspec": {
   "display_name": "Python 3",
   "language": "python",
   "name": "python3"
  },
  "language_info": {
   "codemirror_mode": {
    "name": "ipython",
    "version": 3
   },
   "file_extension": ".py",
   "mimetype": "text/x-python",
   "name": "python",
   "nbconvert_exporter": "python",
   "pygments_lexer": "ipython3",
   "version": "3.6.4"
  }
 },
 "nbformat": 4,
 "nbformat_minor": 2
}
