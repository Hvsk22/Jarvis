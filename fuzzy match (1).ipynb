{
 "cells": [
  {
   "cell_type": "code",
   "execution_count": 38,
   "metadata": {},
   "outputs": [],
   "source": [
    "import os"
   ]
  },
  {
   "cell_type": "code",
   "execution_count": 39,
   "metadata": {},
   "outputs": [],
   "source": [
    "import re"
   ]
  },
  {
   "cell_type": "code",
   "execution_count": 40,
   "metadata": {},
   "outputs": [],
   "source": [
    "import time"
   ]
  },
  {
   "cell_type": "code",
   "execution_count": 41,
   "metadata": {},
   "outputs": [],
   "source": [
    "import pandas as pd"
   ]
  },
  {
   "cell_type": "code",
   "execution_count": 42,
   "metadata": {},
   "outputs": [],
   "source": [
    "df1 = pd.read_excel('C:\\\\Users\\\\Dell\\\\Desktop\\\\Punjab\\\\Punjab booth file.xlsx')"
   ]
  },
  {
   "cell_type": "code",
   "execution_count": 17,
   "metadata": {},
   "outputs": [
    {
     "data": {
      "text/html": [
       "<div>\n",
       "<style scoped>\n",
       "    .dataframe tbody tr th:only-of-type {\n",
       "        vertical-align: middle;\n",
       "    }\n",
       "\n",
       "    .dataframe tbody tr th {\n",
       "        vertical-align: top;\n",
       "    }\n",
       "\n",
       "    .dataframe thead th {\n",
       "        text-align: right;\n",
       "    }\n",
       "</style>\n",
       "<table border=\"1\" class=\"dataframe\">\n",
       "  <thead>\n",
       "    <tr style=\"text-align: right;\">\n",
       "      <th></th>\n",
       "      <th>State</th>\n",
       "      <th>AC Number</th>\n",
       "      <th>Ac (from dilm)</th>\n",
       "      <th>District</th>\n",
       "      <th>Part No.</th>\n",
       "      <th>Area Covered in Part</th>\n",
       "      <th>Village</th>\n",
       "      <th>Polling Station Building</th>\n",
       "      <th>Cleaned Village</th>\n",
       "      <th>Key</th>\n",
       "      <th>Unnamed: 10</th>\n",
       "      <th>Unnamed: 11</th>\n",
       "    </tr>\n",
       "  </thead>\n",
       "  <tbody>\n",
       "    <tr>\n",
       "      <th>0</th>\n",
       "      <td>punjab</td>\n",
       "      <td>1</td>\n",
       "      <td>sujanpur</td>\n",
       "      <td>gurdaspur</td>\n",
       "      <td>1</td>\n",
       "      <td>BASROOP</td>\n",
       "      <td>basroop</td>\n",
       "      <td>Govt. Elementry School Basroop</td>\n",
       "      <td>basroop</td>\n",
       "      <td>1_1</td>\n",
       "      <td>NaN</td>\n",
       "      <td>NaN</td>\n",
       "    </tr>\n",
       "    <tr>\n",
       "      <th>1</th>\n",
       "      <td>punjab</td>\n",
       "      <td>1</td>\n",
       "      <td>sujanpur</td>\n",
       "      <td>gurdaspur</td>\n",
       "      <td>2</td>\n",
       "      <td>BASROOP</td>\n",
       "      <td>basroop</td>\n",
       "      <td>Govt. Elementry School Basroop</td>\n",
       "      <td>basroop</td>\n",
       "      <td>1_2</td>\n",
       "      <td>NaN</td>\n",
       "      <td>NaN</td>\n",
       "    </tr>\n",
       "    <tr>\n",
       "      <th>2</th>\n",
       "      <td>punjab</td>\n",
       "      <td>1</td>\n",
       "      <td>sujanpur</td>\n",
       "      <td>gurdaspur</td>\n",
       "      <td>3</td>\n",
       "      <td>BHADRALI</td>\n",
       "      <td>bhadrali</td>\n",
       "      <td>GOVT. ELEMENTRY SCHOOL, BHADHRALI</td>\n",
       "      <td>bhadhrali</td>\n",
       "      <td>1_3</td>\n",
       "      <td>NaN</td>\n",
       "      <td>NaN</td>\n",
       "    </tr>\n",
       "    <tr>\n",
       "      <th>3</th>\n",
       "      <td>punjab</td>\n",
       "      <td>1</td>\n",
       "      <td>sujanpur</td>\n",
       "      <td>gurdaspur</td>\n",
       "      <td>4</td>\n",
       "      <td>SHEHAR</td>\n",
       "      <td>shehar</td>\n",
       "      <td>Govt. Elementry School (Jila Parishad) Shehar ...</td>\n",
       "      <td>jila parishad shehar chann dhar sujanpur</td>\n",
       "      <td>1_4</td>\n",
       "      <td>NaN</td>\n",
       "      <td>NaN</td>\n",
       "    </tr>\n",
       "    <tr>\n",
       "      <th>4</th>\n",
       "      <td>punjab</td>\n",
       "      <td>1</td>\n",
       "      <td>sujanpur</td>\n",
       "      <td>gurdaspur</td>\n",
       "      <td>5</td>\n",
       "      <td>CHHANN</td>\n",
       "      <td>chhann</td>\n",
       "      <td>Govt. Elementry School (Jila Parishad) Shehar ...</td>\n",
       "      <td>jila parishad shehar chann dhar sujanpur</td>\n",
       "      <td>1_5</td>\n",
       "      <td>NaN</td>\n",
       "      <td>NaN</td>\n",
       "    </tr>\n",
       "  </tbody>\n",
       "</table>\n",
       "</div>"
      ],
      "text/plain": [
       "    State  AC Number Ac (from dilm)   District  Part No. Area Covered in Part  \\\n",
       "0  punjab          1       sujanpur  gurdaspur         1              BASROOP   \n",
       "1  punjab          1       sujanpur  gurdaspur         2              BASROOP   \n",
       "2  punjab          1       sujanpur  gurdaspur         3             BHADRALI   \n",
       "3  punjab          1       sujanpur  gurdaspur         4               SHEHAR   \n",
       "4  punjab          1       sujanpur  gurdaspur         5               CHHANN   \n",
       "\n",
       "    Village                           Polling Station Building  \\\n",
       "0   basroop                     Govt. Elementry School Basroop   \n",
       "1   basroop                     Govt. Elementry School Basroop   \n",
       "2  bhadrali                  GOVT. ELEMENTRY SCHOOL, BHADHRALI   \n",
       "3    shehar  Govt. Elementry School (Jila Parishad) Shehar ...   \n",
       "4    chhann  Govt. Elementry School (Jila Parishad) Shehar ...   \n",
       "\n",
       "                            Cleaned Village  Key Unnamed: 10 Unnamed: 11  \n",
       "0                                   basroop  1_1         NaN         NaN  \n",
       "1                                   basroop  1_2         NaN         NaN  \n",
       "2                                 bhadhrali  1_3         NaN         NaN  \n",
       "3  jila parishad shehar chann dhar sujanpur  1_4         NaN         NaN  \n",
       "4  jila parishad shehar chann dhar sujanpur  1_5         NaN         NaN  "
      ]
     },
     "execution_count": 17,
     "metadata": {},
     "output_type": "execute_result"
    }
   ],
   "source": [
    "df1.head()"
   ]
  },
  {
   "cell_type": "code",
   "execution_count": 18,
   "metadata": {},
   "outputs": [
    {
     "data": {
      "text/plain": [
       "Index(['State', 'AC Number', 'Ac (from dilm)', 'District', 'Part No.',\n",
       "       'Area Covered in Part', 'Village', 'Polling Station Building',\n",
       "       'Cleaned Village', 'Key', 'Unnamed: 10', 'Unnamed: 11'],\n",
       "      dtype='object')"
      ]
     },
     "execution_count": 18,
     "metadata": {},
     "output_type": "execute_result"
    }
   ],
   "source": [
    "dict_booth_address={}\n",
    "df1.columns"
   ]
  },
  {
   "cell_type": "code",
   "execution_count": 19,
   "metadata": {},
   "outputs": [],
   "source": [
    "list11=df1['District'].unique()"
   ]
  },
  {
   "cell_type": "code",
   "execution_count": 20,
   "metadata": {},
   "outputs": [],
   "source": [
    "for i in list11:\n",
    "    dict_booth_address[i]={}"
   ]
  },
  {
   "cell_type": "code",
   "execution_count": 21,
   "metadata": {
    "scrolled": false
   },
   "outputs": [
    {
     "data": {
      "text/plain": [
       "{'gurdaspur': {},\n",
       " 'amritsar': {},\n",
       " 'kapurthala': {},\n",
       " 'jalandhar': {},\n",
       " 'hoshiarpur': {},\n",
       " 'nawanshahr': {},\n",
       " 'rupnagar': {},\n",
       " 'fatehgarh sahib': {},\n",
       " 'ludhiana': {},\n",
       " 'nihal singhwala (sc)': {},\n",
       " 'moga': {},\n",
       " 'firozpur': {},\n",
       " 'muktsar': {},\n",
       " 'faridkot': {},\n",
       " 'bathinda': {},\n",
       " 'mansa': {},\n",
       " 'sangrur': {},\n",
       " 'patiala': {}}"
      ]
     },
     "execution_count": 21,
     "metadata": {},
     "output_type": "execute_result"
    }
   ],
   "source": [
    "dict_booth_address"
   ]
  },
  {
   "cell_type": "code",
   "execution_count": 33,
   "metadata": {},
   "outputs": [],
   "source": [
    "for i in dict_booth_address:\n",
    "    c=0\n",
    "    for j in range(len(df1)):\n",
    "        if df1['District'][j]==i:\n",
    "            c+=1\n",
    "            if df1['Ac (from dilm)'][j] not in dict_booth_address[i]:\n",
    "                    dict_booth_address[df1['District'][j]][df1['Ac (from dilm)'][j]]=[]\n",
    "            dict_booth_address[df1['District'][j]][df1['Ac (from dilm)'][j]].append(df1['Cleaned Village'][j])\n",
    "        elif c>0:\n",
    "            break"
   ]
  },
  {
   "cell_type": "code",
   "execution_count": 65,
   "metadata": {},
   "outputs": [
    {
     "data": {
      "text/plain": [
       "{'gurdaspur': {},\n",
       " 'amritsar': {},\n",
       " 'kapurthala': {},\n",
       " 'jalandhar': {},\n",
       " 'hoshiarpur': {},\n",
       " 'nawanshahr': {},\n",
       " 'rupnagar': {},\n",
       " 'fatehgarh sahib': {},\n",
       " 'ludhiana': {},\n",
       " 'nihal singhwala (sc)': {},\n",
       " 'moga': {},\n",
       " 'firozpur': {},\n",
       " 'muktsar': {},\n",
       " 'faridkot': {},\n",
       " 'bathinda': {},\n",
       " 'mansa': {},\n",
       " 'sangrur': {},\n",
       " 'patiala': {}}"
      ]
     },
     "execution_count": 65,
     "metadata": {},
     "output_type": "execute_result"
    }
   ],
   "source": [
    "dict_booth_address"
   ]
  },
  {
   "cell_type": "code",
   "execution_count": 23,
   "metadata": {},
   "outputs": [],
   "source": [
    "dict_village={}"
   ]
  },
  {
   "cell_type": "code",
   "execution_count": 25,
   "metadata": {},
   "outputs": [],
   "source": [
    "df2=pd.read_csv(\"C:\\\\Users\\\\Dell\\\\Desktop\\\\Punjab\\\\del+cen_PB.csv\")"
   ]
  },
  {
   "cell_type": "code",
   "execution_count": 26,
   "metadata": {},
   "outputs": [
    {
     "data": {
      "text/html": [
       "<div>\n",
       "<style scoped>\n",
       "    .dataframe tbody tr th:only-of-type {\n",
       "        vertical-align: middle;\n",
       "    }\n",
       "\n",
       "    .dataframe tbody tr th {\n",
       "        vertical-align: top;\n",
       "    }\n",
       "\n",
       "    .dataframe thead th {\n",
       "        text-align: right;\n",
       "    }\n",
       "</style>\n",
       "<table border=\"1\" class=\"dataframe\">\n",
       "  <thead>\n",
       "    <tr style=\"text-align: right;\">\n",
       "      <th></th>\n",
       "      <th>Unnamed: 0</th>\n",
       "      <th>State_x</th>\n",
       "      <th>District_x</th>\n",
       "      <th>Ac No.</th>\n",
       "      <th>Ac Name</th>\n",
       "      <th>local body name</th>\n",
       "      <th>Local body name</th>\n",
       "      <th>full or part</th>\n",
       "      <th>State Name_District_Local Body Name</th>\n",
       "      <th>Unnamed: 0.1</th>\n",
       "      <th>State_y</th>\n",
       "      <th>District_y</th>\n",
       "      <th>Taluka</th>\n",
       "      <th>Village</th>\n",
       "      <th>Village cleaned</th>\n",
       "      <th>Name</th>\n",
       "      <th>State_dist_AC_Vil</th>\n",
       "    </tr>\n",
       "  </thead>\n",
       "  <tbody>\n",
       "    <tr>\n",
       "      <th>0</th>\n",
       "      <td>0</td>\n",
       "      <td>punjab</td>\n",
       "      <td>gurdaspur</td>\n",
       "      <td>1</td>\n",
       "      <td>sujanpur</td>\n",
       "      <td>dhar kalan</td>\n",
       "      <td>dhar kalan</td>\n",
       "      <td>full</td>\n",
       "      <td>punjab_gurdaspur_dhar kalan</td>\n",
       "      <td>3556</td>\n",
       "      <td>punjab</td>\n",
       "      <td>gurdaspur</td>\n",
       "      <td>dhar kalan</td>\n",
       "      <td>dhar kalan</td>\n",
       "      <td>dhar kalan</td>\n",
       "      <td>Dhar Kalan</td>\n",
       "      <td>punjab_gurdaspur_sujanpur_dhar kalan</td>\n",
       "    </tr>\n",
       "    <tr>\n",
       "      <th>1</th>\n",
       "      <td>1</td>\n",
       "      <td>punjab</td>\n",
       "      <td>gurdaspur</td>\n",
       "      <td>1</td>\n",
       "      <td>sujanpur</td>\n",
       "      <td>dhar kalan</td>\n",
       "      <td>dhar kalan</td>\n",
       "      <td>full</td>\n",
       "      <td>punjab_gurdaspur_dhar kalan</td>\n",
       "      <td>3557</td>\n",
       "      <td>punjab</td>\n",
       "      <td>gurdaspur</td>\n",
       "      <td>dhar kalan</td>\n",
       "      <td>dhar kalan</td>\n",
       "      <td>dhar kalan</td>\n",
       "      <td>Dhar Kalan</td>\n",
       "      <td>punjab_gurdaspur_sujanpur_dhar kalan</td>\n",
       "    </tr>\n",
       "    <tr>\n",
       "      <th>2</th>\n",
       "      <td>2</td>\n",
       "      <td>punjab</td>\n",
       "      <td>gurdaspur</td>\n",
       "      <td>1</td>\n",
       "      <td>sujanpur</td>\n",
       "      <td>dhar kalan</td>\n",
       "      <td>dhar kalan</td>\n",
       "      <td>full</td>\n",
       "      <td>punjab_gurdaspur_dhar kalan</td>\n",
       "      <td>3558</td>\n",
       "      <td>punjab</td>\n",
       "      <td>gurdaspur</td>\n",
       "      <td>dhar kalan</td>\n",
       "      <td>dhar kalan</td>\n",
       "      <td>dhar kalan</td>\n",
       "      <td>Dhar Kalan</td>\n",
       "      <td>punjab_gurdaspur_sujanpur_dhar kalan</td>\n",
       "    </tr>\n",
       "    <tr>\n",
       "      <th>3</th>\n",
       "      <td>3</td>\n",
       "      <td>punjab</td>\n",
       "      <td>gurdaspur</td>\n",
       "      <td>1</td>\n",
       "      <td>sujanpur</td>\n",
       "      <td>dhar kalan</td>\n",
       "      <td>dhar kalan</td>\n",
       "      <td>full</td>\n",
       "      <td>punjab_gurdaspur_dhar kalan</td>\n",
       "      <td>3559</td>\n",
       "      <td>punjab</td>\n",
       "      <td>gurdaspur</td>\n",
       "      <td>dhar kalan</td>\n",
       "      <td>darbahn (406)</td>\n",
       "      <td>darbahn</td>\n",
       "      <td>Darbahn (406)</td>\n",
       "      <td>punjab_gurdaspur_sujanpur_dhar kalan</td>\n",
       "    </tr>\n",
       "    <tr>\n",
       "      <th>4</th>\n",
       "      <td>4</td>\n",
       "      <td>punjab</td>\n",
       "      <td>gurdaspur</td>\n",
       "      <td>1</td>\n",
       "      <td>sujanpur</td>\n",
       "      <td>dhar kalan</td>\n",
       "      <td>dhar kalan</td>\n",
       "      <td>full</td>\n",
       "      <td>punjab_gurdaspur_dhar kalan</td>\n",
       "      <td>3560</td>\n",
       "      <td>punjab</td>\n",
       "      <td>gurdaspur</td>\n",
       "      <td>dhar kalan</td>\n",
       "      <td>darkua bangla (405)</td>\n",
       "      <td>darkua bangla</td>\n",
       "      <td>Darkua Bangla (405)</td>\n",
       "      <td>punjab_gurdaspur_sujanpur_dhar kalan</td>\n",
       "    </tr>\n",
       "  </tbody>\n",
       "</table>\n",
       "</div>"
      ],
      "text/plain": [
       "   Unnamed: 0 State_x District_x  Ac No.   Ac Name local body name  \\\n",
       "0           0  punjab  gurdaspur       1  sujanpur      dhar kalan   \n",
       "1           1  punjab  gurdaspur       1  sujanpur      dhar kalan   \n",
       "2           2  punjab  gurdaspur       1  sujanpur      dhar kalan   \n",
       "3           3  punjab  gurdaspur       1  sujanpur      dhar kalan   \n",
       "4           4  punjab  gurdaspur       1  sujanpur      dhar kalan   \n",
       "\n",
       "  Local body name full or part State Name_District_Local Body Name  \\\n",
       "0      dhar kalan         full         punjab_gurdaspur_dhar kalan   \n",
       "1      dhar kalan         full         punjab_gurdaspur_dhar kalan   \n",
       "2      dhar kalan         full         punjab_gurdaspur_dhar kalan   \n",
       "3      dhar kalan         full         punjab_gurdaspur_dhar kalan   \n",
       "4      dhar kalan         full         punjab_gurdaspur_dhar kalan   \n",
       "\n",
       "   Unnamed: 0.1 State_y District_y      Taluka              Village  \\\n",
       "0          3556  punjab  gurdaspur  dhar kalan           dhar kalan   \n",
       "1          3557  punjab  gurdaspur  dhar kalan           dhar kalan   \n",
       "2          3558  punjab  gurdaspur  dhar kalan           dhar kalan   \n",
       "3          3559  punjab  gurdaspur  dhar kalan        darbahn (406)   \n",
       "4          3560  punjab  gurdaspur  dhar kalan  darkua bangla (405)   \n",
       "\n",
       "  Village cleaned                 Name                     State_dist_AC_Vil  \n",
       "0      dhar kalan           Dhar Kalan  punjab_gurdaspur_sujanpur_dhar kalan  \n",
       "1      dhar kalan           Dhar Kalan  punjab_gurdaspur_sujanpur_dhar kalan  \n",
       "2      dhar kalan           Dhar Kalan  punjab_gurdaspur_sujanpur_dhar kalan  \n",
       "3        darbahn         Darbahn (406)  punjab_gurdaspur_sujanpur_dhar kalan  \n",
       "4  darkua bangla   Darkua Bangla (405)  punjab_gurdaspur_sujanpur_dhar kalan  "
      ]
     },
     "execution_count": 26,
     "metadata": {},
     "output_type": "execute_result"
    }
   ],
   "source": [
    "df2.head()"
   ]
  },
  {
   "cell_type": "code",
   "execution_count": 27,
   "metadata": {},
   "outputs": [
    {
     "data": {
      "text/plain": [
       "array(['gurdaspur', 'amritsar', 'kapurthala', 'jalandhar', 'hoshiarpur',\n",
       "       'rupnagar', 'fatehgarh sahib', 'ludhiana', 'moga', 'firozpur',\n",
       "       'muktsar', 'faridkot', 'bathinda', 'mansa', 'sangrur', 'patiala'],\n",
       "      dtype=object)"
      ]
     },
     "execution_count": 27,
     "metadata": {},
     "output_type": "execute_result"
    }
   ],
   "source": [
    "list21=df2['District_y'].unique()\n",
    "list21"
   ]
  },
  {
   "cell_type": "code",
   "execution_count": 28,
   "metadata": {},
   "outputs": [],
   "source": [
    "for i in list21:\n",
    "    dict_village[i]={}"
   ]
  },
  {
   "cell_type": "code",
   "execution_count": 34,
   "metadata": {},
   "outputs": [],
   "source": [
    "for i in dict_village:\n",
    "    c=0\n",
    "    for j in range(len(df2)):\n",
    "        if df2['District_y'][j]==i:\n",
    "            c+=1\n",
    "            if df2['Ac Name'][j] not in dict_village[i]:\n",
    "                    dict_village[df2['District_y'][j]][df2['Ac Name'][j]]=[]\n",
    "            dict_village[df2['District_y'][j]][df2['Ac Name'][j]].append(df2['Village cleaned'][j])\n",
    "        elif c>0:\n",
    "            break"
   ]
  },
  {
   "cell_type": "code",
   "execution_count": 30,
   "metadata": {},
   "outputs": [
    {
     "data": {
      "text/plain": [
       "{'gurdaspur': {},\n",
       " 'amritsar': {},\n",
       " 'kapurthala': {},\n",
       " 'jalandhar': {},\n",
       " 'hoshiarpur': {},\n",
       " 'rupnagar': {},\n",
       " 'fatehgarh sahib': {},\n",
       " 'ludhiana': {},\n",
       " 'moga': {},\n",
       " 'firozpur': {},\n",
       " 'muktsar': {},\n",
       " 'faridkot': {},\n",
       " 'bathinda': {},\n",
       " 'mansa': {},\n",
       " 'sangrur': {},\n",
       " 'patiala': {}}"
      ]
     },
     "execution_count": 30,
     "metadata": {},
     "output_type": "execute_result"
    }
   ],
   "source": [
    "dict_village"
   ]
  },
  {
   "cell_type": "code",
   "execution_count": null,
   "metadata": {},
   "outputs": [],
   "source": [
    "def matching(df_list,df_list1):\n",
    "    list2=df_list1\n",
    "    list1=df_list\n",
    "    list3=[]\n",
    "    for i in list2:\n",
    "        for j in i.split(' '):\n",
    "            list3.append(j)\n",
    "    set3=set(list3)\n",
    "    list3=list(set3)\n",
    "    list5=[]\n",
    "    for i in range(len(list1)):\n",
    "        list4=list1[i].split(' ')\n",
    "        c=0\n",
    "        for j in range(len(list4)-1,-1,-1):\n",
    "            #['bundala']\n",
    "            y=process.extractOne(list4[j],list3,scorer=fuzz.ratio)\n",
    "            if y[1]>=80:\n",
    "                c+=1\n",
    "                if j==0:\n",
    "                    list5.append(y[0])\n",
    "                    break\n",
    "                x=process.extractOne(list4[j-1],list3,scorer=fuzz.ratio)\n",
    "                if x[1]>=80:\n",
    "                    list5.append(x[0]+' '+y[0])\n",
    "                    break\n",
    "                list5.append(y[0])\n",
    "                break\n",
    "        if c==0:\n",
    "            list5.append('')\n",
    "    return list5"
   ]
  },
  {
   "cell_type": "code",
   "execution_count": 35,
   "metadata": {},
   "outputs": [
    {
     "ename": "ValueError",
     "evalue": "too many values to unpack (expected 2)",
     "output_type": "error",
     "traceback": [
      "\u001b[1;31m---------------------------------------------------------------------------\u001b[0m",
      "\u001b[1;31mValueError\u001b[0m                                Traceback (most recent call last)",
      "\u001b[1;32m<ipython-input-35-0f51eb81978a>\u001b[0m in \u001b[0;36m<module>\u001b[1;34m()\u001b[0m\n\u001b[1;32m----> 1\u001b[1;33m \u001b[1;32mfor\u001b[0m \u001b[0mi\u001b[0m\u001b[1;33m,\u001b[0m\u001b[0mk\u001b[0m \u001b[1;32min\u001b[0m \u001b[0mdict_booth_address\u001b[0m\u001b[1;33m,\u001b[0m\u001b[0mdict_village\u001b[0m\u001b[1;33m:\u001b[0m\u001b[1;33m\u001b[0m\u001b[0m\n\u001b[0m\u001b[0;32m      2\u001b[0m     \u001b[1;32mfor\u001b[0m \u001b[0mj\u001b[0m\u001b[1;33m,\u001b[0m\u001b[0ml\u001b[0m \u001b[1;32min\u001b[0m \u001b[0mdict_booth_address\u001b[0m\u001b[1;33m[\u001b[0m\u001b[0mi\u001b[0m\u001b[1;33m]\u001b[0m\u001b[1;33m,\u001b[0m\u001b[0mdict_village\u001b[0m\u001b[1;33m[\u001b[0m\u001b[0mk\u001b[0m\u001b[1;33m]\u001b[0m\u001b[1;33m:\u001b[0m\u001b[1;33m\u001b[0m\u001b[0m\n\u001b[0;32m      3\u001b[0m         \u001b[1;32mpass\u001b[0m\u001b[1;33m\u001b[0m\u001b[0m\n\u001b[0;32m      4\u001b[0m \u001b[1;33m\u001b[0m\u001b[0m\n",
      "\u001b[1;31mValueError\u001b[0m: too many values to unpack (expected 2)"
     ]
    }
   ],
   "source": [
    "for i in dict_booth_address:\n",
    "    for j in dict_village:\n",
    "        if i==j:\n",
    "            start_time = time.time()\n",
    "            for k in i:\n",
    "                for m in j:\n",
    "                    if k==m:\n",
    "                        pd.DataFrame(matching(i[k],j[m])).to_excel(str(i)+'.xlsx',header=True,index=False)\n",
    "                        print(\"--- %s seconds ---\" % (time.time() - start_time))\n",
    "                        break\n",
    "            break\n",
    "    break\n",
    "        "
   ]
  },
  {
   "cell_type": "code",
   "execution_count": null,
   "metadata": {},
   "outputs": [],
   "source": []
  },
  {
   "cell_type": "code",
   "execution_count": null,
   "metadata": {},
   "outputs": [],
   "source": []
  },
  {
   "cell_type": "code",
   "execution_count": null,
   "metadata": {},
   "outputs": [],
   "source": []
  },
  {
   "cell_type": "code",
   "execution_count": null,
   "metadata": {},
   "outputs": [],
   "source": []
  },
  {
   "cell_type": "code",
   "execution_count": null,
   "metadata": {},
   "outputs": [],
   "source": []
  },
  {
   "cell_type": "code",
   "execution_count": null,
   "metadata": {},
   "outputs": [],
   "source": []
  },
  {
   "cell_type": "code",
   "execution_count": null,
   "metadata": {},
   "outputs": [],
   "source": []
  },
  {
   "cell_type": "code",
   "execution_count": null,
   "metadata": {},
   "outputs": [],
   "source": []
  },
  {
   "cell_type": "code",
   "execution_count": null,
   "metadata": {},
   "outputs": [],
   "source": []
  },
  {
   "cell_type": "code",
   "execution_count": null,
   "metadata": {},
   "outputs": [],
   "source": []
  },
  {
   "cell_type": "code",
   "execution_count": null,
   "metadata": {},
   "outputs": [],
   "source": []
  },
  {
   "cell_type": "code",
   "execution_count": null,
   "metadata": {},
   "outputs": [],
   "source": []
  },
  {
   "cell_type": "code",
   "execution_count": null,
   "metadata": {},
   "outputs": [],
   "source": []
  },
  {
   "cell_type": "code",
   "execution_count": null,
   "metadata": {},
   "outputs": [],
   "source": []
  },
  {
   "cell_type": "code",
   "execution_count": null,
   "metadata": {},
   "outputs": [],
   "source": []
  },
  {
   "cell_type": "code",
   "execution_count": null,
   "metadata": {},
   "outputs": [],
   "source": []
  },
  {
   "cell_type": "code",
   "execution_count": null,
   "metadata": {},
   "outputs": [],
   "source": []
  },
  {
   "cell_type": "code",
   "execution_count": null,
   "metadata": {},
   "outputs": [],
   "source": []
  },
  {
   "cell_type": "code",
   "execution_count": null,
   "metadata": {},
   "outputs": [],
   "source": []
  },
  {
   "cell_type": "code",
   "execution_count": null,
   "metadata": {},
   "outputs": [],
   "source": []
  },
  {
   "cell_type": "code",
   "execution_count": null,
   "metadata": {},
   "outputs": [],
   "source": []
  },
  {
   "cell_type": "code",
   "execution_count": null,
   "metadata": {},
   "outputs": [],
   "source": []
  },
  {
   "cell_type": "code",
   "execution_count": null,
   "metadata": {},
   "outputs": [],
   "source": []
  },
  {
   "cell_type": "code",
   "execution_count": null,
   "metadata": {},
   "outputs": [],
   "source": []
  },
  {
   "cell_type": "code",
   "execution_count": null,
   "metadata": {},
   "outputs": [],
   "source": []
  },
  {
   "cell_type": "code",
   "execution_count": null,
   "metadata": {},
   "outputs": [],
   "source": []
  },
  {
   "cell_type": "code",
   "execution_count": null,
   "metadata": {},
   "outputs": [],
   "source": []
  },
  {
   "cell_type": "code",
   "execution_count": null,
   "metadata": {},
   "outputs": [],
   "source": []
  },
  {
   "cell_type": "code",
   "execution_count": null,
   "metadata": {},
   "outputs": [],
   "source": []
  },
  {
   "cell_type": "code",
   "execution_count": null,
   "metadata": {},
   "outputs": [],
   "source": []
  },
  {
   "cell_type": "code",
   "execution_count": null,
   "metadata": {},
   "outputs": [],
   "source": []
  },
  {
   "cell_type": "code",
   "execution_count": null,
   "metadata": {},
   "outputs": [],
   "source": []
  },
  {
   "cell_type": "code",
   "execution_count": null,
   "metadata": {},
   "outputs": [],
   "source": []
  },
  {
   "cell_type": "code",
   "execution_count": null,
   "metadata": {},
   "outputs": [],
   "source": []
  },
  {
   "cell_type": "code",
   "execution_count": null,
   "metadata": {},
   "outputs": [],
   "source": []
  },
  {
   "cell_type": "code",
   "execution_count": null,
   "metadata": {},
   "outputs": [],
   "source": []
  },
  {
   "cell_type": "code",
   "execution_count": null,
   "metadata": {},
   "outputs": [],
   "source": []
  }
 ],
 "metadata": {
  "kernelspec": {
   "display_name": "Python 3",
   "language": "python",
   "name": "python3"
  },
  "language_info": {
   "codemirror_mode": {
    "name": "ipython",
    "version": 3
   },
   "file_extension": ".py",
   "mimetype": "text/x-python",
   "name": "python",
   "nbconvert_exporter": "python",
   "pygments_lexer": "ipython3",
   "version": "3.6.4"
  }
 },
 "nbformat": 4,
 "nbformat_minor": 2
}
