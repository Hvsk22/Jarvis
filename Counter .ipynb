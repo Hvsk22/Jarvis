{
 "cells": [
  {
   "cell_type": "code",
   "execution_count": 2,
   "metadata": {},
   "outputs": [],
   "source": [
    "import pandas as pd"
   ]
  },
  {
   "cell_type": "code",
   "execution_count": 3,
   "metadata": {},
   "outputs": [],
   "source": [
    "x = pd.ExcelFile('Jharkhand.xlsx')"
   ]
  },
  {
   "cell_type": "code",
   "execution_count": 4,
   "metadata": {},
   "outputs": [
    {
     "data": {
      "text/plain": [
       "['Sheet1']"
      ]
     },
     "execution_count": 4,
     "metadata": {},
     "output_type": "execute_result"
    }
   ],
   "source": [
    "x.sheet_names"
   ]
  },
  {
   "cell_type": "code",
   "execution_count": 5,
   "metadata": {},
   "outputs": [],
   "source": [
    "df = pd.read_excel(x,'Sheet1')"
   ]
  },
  {
   "cell_type": "code",
   "execution_count": 6,
   "metadata": {},
   "outputs": [
    {
     "data": {
      "text/html": [
       "<div>\n",
       "<style scoped>\n",
       "    .dataframe tbody tr th:only-of-type {\n",
       "        vertical-align: middle;\n",
       "    }\n",
       "\n",
       "    .dataframe tbody tr th {\n",
       "        vertical-align: top;\n",
       "    }\n",
       "\n",
       "    .dataframe thead th {\n",
       "        text-align: right;\n",
       "    }\n",
       "</style>\n",
       "<table border=\"1\" class=\"dataframe\">\n",
       "  <thead>\n",
       "    <tr style=\"text-align: right;\">\n",
       "      <th></th>\n",
       "      <th>State</th>\n",
       "      <th>District</th>\n",
       "      <th>AC no.</th>\n",
       "      <th>AC Name</th>\n",
       "      <th>Booth</th>\n",
       "      <th>Booth Address</th>\n",
       "    </tr>\n",
       "  </thead>\n",
       "  <tbody>\n",
       "    <tr>\n",
       "      <th>0</th>\n",
       "      <td>Jharkhand</td>\n",
       "      <td>Sahebganj</td>\n",
       "      <td>1</td>\n",
       "      <td>Rajmahal</td>\n",
       "      <td>1.0</td>\n",
       "      <td>Middle School Hajipur Diyara (New Building)</td>\n",
       "    </tr>\n",
       "    <tr>\n",
       "      <th>1</th>\n",
       "      <td>Jharkhand</td>\n",
       "      <td>Sahebganj</td>\n",
       "      <td>1</td>\n",
       "      <td>Rajmahal</td>\n",
       "      <td>2.0</td>\n",
       "      <td>Middle School Hajipur Diyara, (Old Building)</td>\n",
       "    </tr>\n",
       "    <tr>\n",
       "      <th>2</th>\n",
       "      <td>Jharkhand</td>\n",
       "      <td>Sahebganj</td>\n",
       "      <td>1</td>\n",
       "      <td>Rajmahal</td>\n",
       "      <td>3.0</td>\n",
       "      <td>Middle School Hajipur Diyara, (Old Building)</td>\n",
       "    </tr>\n",
       "    <tr>\n",
       "      <th>3</th>\n",
       "      <td>Jharkhand</td>\n",
       "      <td>Sahebganj</td>\n",
       "      <td>1</td>\n",
       "      <td>Rajmahal</td>\n",
       "      <td>4.0</td>\n",
       "      <td>Up. Middle School, &amp;#160;Rajgaown (South Part)</td>\n",
       "    </tr>\n",
       "    <tr>\n",
       "      <th>4</th>\n",
       "      <td>Jharkhand</td>\n",
       "      <td>Sahebganj</td>\n",
       "      <td>1</td>\n",
       "      <td>Rajmahal</td>\n",
       "      <td>5.0</td>\n",
       "      <td>Up. Middle School, &amp;#160;Rajgaown (North Part)</td>\n",
       "    </tr>\n",
       "  </tbody>\n",
       "</table>\n",
       "</div>"
      ],
      "text/plain": [
       "       State   District  AC no.   AC Name  Booth  \\\n",
       "0  Jharkhand  Sahebganj       1  Rajmahal    1.0   \n",
       "1  Jharkhand  Sahebganj       1  Rajmahal    2.0   \n",
       "2  Jharkhand  Sahebganj       1  Rajmahal    3.0   \n",
       "3  Jharkhand  Sahebganj       1  Rajmahal    4.0   \n",
       "4  Jharkhand  Sahebganj       1  Rajmahal    5.0   \n",
       "\n",
       "                                    Booth Address  \n",
       "0     Middle School Hajipur Diyara (New Building)  \n",
       "1    Middle School Hajipur Diyara, (Old Building)  \n",
       "2    Middle School Hajipur Diyara, (Old Building)  \n",
       "3  Up. Middle School, &#160;Rajgaown (South Part)  \n",
       "4  Up. Middle School, &#160;Rajgaown (North Part)  "
      ]
     },
     "execution_count": 6,
     "metadata": {},
     "output_type": "execute_result"
    }
   ],
   "source": [
    "df.head()"
   ]
  },
  {
   "cell_type": "code",
   "execution_count": 12,
   "metadata": {},
   "outputs": [],
   "source": [
    "l = list(df['Booth Address'].astype(str))"
   ]
  },
  {
   "cell_type": "code",
   "execution_count": 13,
   "metadata": {},
   "outputs": [],
   "source": [
    "import collections, re\n"
   ]
  },
  {
   "cell_type": "code",
   "execution_count": 14,
   "metadata": {},
   "outputs": [],
   "source": [
    "bagsofwords = [ collections.Counter(re.findall(r'\\w+', txt))\n",
    "            for txt in l]"
   ]
  },
  {
   "cell_type": "code",
   "execution_count": 16,
   "metadata": {},
   "outputs": [],
   "source": [
    "sumbags = sum(bagsofwords, collections.Counter())"
   ]
  },
  {
   "cell_type": "code",
   "execution_count": 21,
   "metadata": {},
   "outputs": [],
   "source": [
    "df = pd.DataFrame.from_dict(sumbags, orient='index').reset_index()"
   ]
  },
  {
   "cell_type": "code",
   "execution_count": 23,
   "metadata": {},
   "outputs": [],
   "source": [
    "df.to_csv('bagofwords.csv')"
   ]
  },
  {
   "cell_type": "code",
   "execution_count": null,
   "metadata": {},
   "outputs": [],
   "source": []
  }
 ],
 "metadata": {
  "kernelspec": {
   "display_name": "Python 3",
   "language": "python",
   "name": "python3"
  },
  "language_info": {
   "codemirror_mode": {
    "name": "ipython",
    "version": 3
   },
   "file_extension": ".py",
   "mimetype": "text/x-python",
   "name": "python",
   "nbconvert_exporter": "python",
   "pygments_lexer": "ipython3",
   "version": "3.6.4"
  }
 },
 "nbformat": 4,
 "nbformat_minor": 2
}
